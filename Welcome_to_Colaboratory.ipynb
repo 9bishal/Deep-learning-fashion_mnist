{
  "cells": [
    {
      "cell_type": "markdown",
      "metadata": {
        "id": "view-in-github",
        "colab_type": "text"
      },
      "source": [
        "<a href=\"https://colab.research.google.com/github/9bishal/Deep-learning-fashion_mnist/blob/main/Welcome_to_Colaboratory.ipynb\" target=\"_parent\"><img src=\"https://colab.research.google.com/assets/colab-badge.svg\" alt=\"Open In Colab\"/></a>"
      ]
    },
    {
      "cell_type": "code",
      "source": [],
      "metadata": {
        "id": "n-9EP4aE2w_V"
      },
      "execution_count": null,
      "outputs": []
    },
    {
      "cell_type": "markdown",
      "source": [
        "##Building CNN- Convulational Neural Network"
      ],
      "metadata": {
        "id": "TC8w6Q893BcM"
      }
    },
    {
      "cell_type": "markdown",
      "source": [
        "##Project Fashion-Classification-End to End\n",
        "\n",
        "Train Convulational Neural Network on 60,000 fashion-MNIST Images(data in NP array)\n",
        "\n",
        "Test Convulational Neiural Network on 10,000 fashion-MNIST Images(data in NP array)"
      ],
      "metadata": {
        "id": "T0v5bPxN3HKV"
      }
    },
    {
      "cell_type": "code",
      "source": [
        "#Imporing the libraries\n",
        "import numpy as np\n",
        "import matplotlib.pyplot as plt\n",
        "import seaborn as sns\n",
        "import keras"
      ],
      "metadata": {
        "id": "9LRftFOl3GXT"
      },
      "execution_count": 5,
      "outputs": []
    },
    {
      "cell_type": "markdown",
      "source": [
        "Laoding Dataset"
      ],
      "metadata": {
        "id": "9oNcGV7I4G7e"
      }
    },
    {
      "cell_type": "code",
      "source": [
        "(x_train, y_train), (x_test, y_test) =keras.datasets.fashion_mnist.load_data()"
      ],
      "metadata": {
        "id": "JKn3EfEy30d1"
      },
      "execution_count": 17,
      "outputs": []
    },
    {
      "cell_type": "markdown",
      "source": [
        "The total no. of data in Fashion MNIST has 70,000. Out of these data, 60,000 is used for training propose and 10,000 is used for testing purpose.\n",
        "X and Y are taken for input and output purpose respectively.\n",
        "\n",
        "X test and trains the Images where as Y test and trains the Lables of the data.\n",
        "Lables(e.g. boot, shoe, t-sirt) Ranges from 0-9 but are divided into 70,000 different class of the labels."
      ],
      "metadata": {
        "id": "BDFy51U57-m5"
      }
    },
    {
      "cell_type": "markdown",
      "source": [
        "It mean no. of images trained: 60,000 and 28X28(size of the images/ row-columns)"
      ],
      "metadata": {
        "id": "3sz0LzAX9_G2"
      }
    },
    {
      "cell_type": "code",
      "source": [
        "x_train.shape, x_test.shape"
      ],
      "metadata": {
        "id": "RrUwfZ7M38Iy",
        "outputId": "b44fb92d-1810-4281-860d-254badcc9795",
        "colab": {
          "base_uri": "https://localhost:8080/"
        }
      },
      "execution_count": 25,
      "outputs": [
        {
          "output_type": "execute_result",
          "data": {
            "text/plain": [
              "((60000, 28, 28), (10000, 28, 28))"
            ]
          },
          "metadata": {},
          "execution_count": 25
        }
      ]
    },
    {
      "cell_type": "markdown",
      "source": [
        "These are the trained and tested labels"
      ],
      "metadata": {
        "id": "hzB46igo9mZE"
      }
    },
    {
      "cell_type": "code",
      "source": [
        "y_train.shape, y_test.shape"
      ],
      "metadata": {
        "id": "1DG9-Kdp4k-g",
        "outputId": "82c1f30a-4ed8-4b5e-f230-6f39abb0a9b5",
        "colab": {
          "base_uri": "https://localhost:8080/"
        }
      },
      "execution_count": 28,
      "outputs": [
        {
          "output_type": "execute_result",
          "data": {
            "text/plain": [
              "((60000,), (10000,))"
            ]
          },
          "metadata": {},
          "execution_count": 28
        }
      ]
    },
    {
      "cell_type": "code",
      "source": [],
      "metadata": {
        "id": "51qQrDeS93af"
      },
      "execution_count": null,
      "outputs": []
    }
  ],
  "metadata": {
    "colab": {
      "name": "Welcome to Colaboratory",
      "provenance": [],
      "gpuType": "T4",
      "include_colab_link": true
    },
    "kernelspec": {
      "display_name": "Python 3",
      "name": "python3"
    },
    "accelerator": "GPU"
  },
  "nbformat": 4,
  "nbformat_minor": 0
}